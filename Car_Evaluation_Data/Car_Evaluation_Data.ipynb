{
  "nbformat": 4,
  "nbformat_minor": 0,
  "metadata": {
    "colab": {
      "name": "Car Evaluation Data.ipynb",
      "provenance": [],
      "toc_visible": true
    },
    "kernelspec": {
      "name": "python3",
      "display_name": "Python 3"
    },
    "language_info": {
      "name": "python"
    }
  },
  "cells": [
    {
      "cell_type": "markdown",
      "metadata": {
        "id": "0q6rt8uUpKWe"
      },
      "source": [
        "## Introduction"
      ]
    },
    {
      "cell_type": "markdown",
      "metadata": {
        "id": "KyT2W9IrpNcm"
      },
      "source": [
        "\n",
        "In this notebook, we use Car Evaluation Dataset that consists of the features, namely -- buying(Cost of the Car), maintenance (Maintenance Cost), doors (No. of Doors), persons (No. of Persons), lug_boot (Luggage Boot) and Safety.\n",
        "\n",
        "Car Evaluation Database was derived from a simple hierarchical decision model originally developed for the demonstration of DEX, M. Bohanec, V. Rajkovic: Expert system for decision making.\n",
        "\n",
        "It's an imbalanced dataset with categorical variables. We shall explore the dataset in the following section!"
      ]
    },
    {
      "cell_type": "markdown",
      "metadata": {
        "id": "saimvBlvsYDf"
      },
      "source": [
        "## Load Packages and the Data"
      ]
    },
    {
      "cell_type": "code",
      "metadata": {
        "id": "1ciRMhl8sR5Y"
      },
      "source": [
        "import pandas as pd\n",
        "import matplotlib.pyplot as plt\n",
        "from sklearn.model_selection import train_test_split\n",
        "from sklearn.svm import SVC\n",
        "from sklearn.metrics import confusion_matrix, f1_score\n",
        "import pickle"
      ],
      "execution_count": 33,
      "outputs": []
    },
    {
      "cell_type": "code",
      "metadata": {
        "id": "DGJE7XvttVtI"
      },
      "source": [
        "columns = [\"buying\",\"maintenance\",\"doors\",\"persons\",\"lug_boot\",\"safety\",\"class\"]\n",
        "dataset_original = pd.read_csv(r'/content/drive/MyDrive/car_evaluation_data.data',sep=',',names=columns)"
      ],
      "execution_count": 2,
      "outputs": []
    },
    {
      "cell_type": "code",
      "metadata": {
        "id": "U0PUydbht0co"
      },
      "source": [
        "# Copy the dataset, so we can explore it while the original data is safe\n",
        "dataset = dataset_original.copy()"
      ],
      "execution_count": 3,
      "outputs": []
    },
    {
      "cell_type": "code",
      "metadata": {
        "colab": {
          "base_uri": "https://localhost:8080/",
          "height": 195
        },
        "id": "YYcIWdyMt9UO",
        "outputId": "eac13e8c-f4fe-4c9b-96f4-c2a675d0ac60"
      },
      "source": [
        "# Let's have a glimpse of our data\n",
        "dataset.head()"
      ],
      "execution_count": 4,
      "outputs": [
        {
          "output_type": "execute_result",
          "data": {
            "text/html": [
              "<div>\n",
              "<style scoped>\n",
              "    .dataframe tbody tr th:only-of-type {\n",
              "        vertical-align: middle;\n",
              "    }\n",
              "\n",
              "    .dataframe tbody tr th {\n",
              "        vertical-align: top;\n",
              "    }\n",
              "\n",
              "    .dataframe thead th {\n",
              "        text-align: right;\n",
              "    }\n",
              "</style>\n",
              "<table border=\"1\" class=\"dataframe\">\n",
              "  <thead>\n",
              "    <tr style=\"text-align: right;\">\n",
              "      <th></th>\n",
              "      <th>buying</th>\n",
              "      <th>maintenance</th>\n",
              "      <th>doors</th>\n",
              "      <th>persons</th>\n",
              "      <th>lug_boot</th>\n",
              "      <th>safety</th>\n",
              "      <th>class</th>\n",
              "    </tr>\n",
              "  </thead>\n",
              "  <tbody>\n",
              "    <tr>\n",
              "      <th>0</th>\n",
              "      <td>vhigh</td>\n",
              "      <td>vhigh</td>\n",
              "      <td>2</td>\n",
              "      <td>2</td>\n",
              "      <td>small</td>\n",
              "      <td>low</td>\n",
              "      <td>unacc</td>\n",
              "    </tr>\n",
              "    <tr>\n",
              "      <th>1</th>\n",
              "      <td>vhigh</td>\n",
              "      <td>vhigh</td>\n",
              "      <td>2</td>\n",
              "      <td>2</td>\n",
              "      <td>small</td>\n",
              "      <td>med</td>\n",
              "      <td>unacc</td>\n",
              "    </tr>\n",
              "    <tr>\n",
              "      <th>2</th>\n",
              "      <td>vhigh</td>\n",
              "      <td>vhigh</td>\n",
              "      <td>2</td>\n",
              "      <td>2</td>\n",
              "      <td>small</td>\n",
              "      <td>high</td>\n",
              "      <td>unacc</td>\n",
              "    </tr>\n",
              "    <tr>\n",
              "      <th>3</th>\n",
              "      <td>vhigh</td>\n",
              "      <td>vhigh</td>\n",
              "      <td>2</td>\n",
              "      <td>2</td>\n",
              "      <td>med</td>\n",
              "      <td>low</td>\n",
              "      <td>unacc</td>\n",
              "    </tr>\n",
              "    <tr>\n",
              "      <th>4</th>\n",
              "      <td>vhigh</td>\n",
              "      <td>vhigh</td>\n",
              "      <td>2</td>\n",
              "      <td>2</td>\n",
              "      <td>med</td>\n",
              "      <td>med</td>\n",
              "      <td>unacc</td>\n",
              "    </tr>\n",
              "  </tbody>\n",
              "</table>\n",
              "</div>"
            ],
            "text/plain": [
              "  buying maintenance doors persons lug_boot safety  class\n",
              "0  vhigh       vhigh     2       2    small    low  unacc\n",
              "1  vhigh       vhigh     2       2    small    med  unacc\n",
              "2  vhigh       vhigh     2       2    small   high  unacc\n",
              "3  vhigh       vhigh     2       2      med    low  unacc\n",
              "4  vhigh       vhigh     2       2      med    med  unacc"
            ]
          },
          "metadata": {
            "tags": []
          },
          "execution_count": 4
        }
      ]
    },
    {
      "cell_type": "code",
      "metadata": {
        "colab": {
          "base_uri": "https://localhost:8080/"
        },
        "id": "we1P-2_Y71OW",
        "outputId": "edcd9030-b272-439c-c18e-9284eb2642d4"
      },
      "source": [
        "# Let's get some info about the dataset\n",
        "dataset.info()"
      ],
      "execution_count": 5,
      "outputs": [
        {
          "output_type": "stream",
          "text": [
            "<class 'pandas.core.frame.DataFrame'>\n",
            "RangeIndex: 1728 entries, 0 to 1727\n",
            "Data columns (total 7 columns):\n",
            " #   Column       Non-Null Count  Dtype \n",
            "---  ------       --------------  ----- \n",
            " 0   buying       1728 non-null   object\n",
            " 1   maintenance  1728 non-null   object\n",
            " 2   doors        1728 non-null   object\n",
            " 3   persons      1728 non-null   object\n",
            " 4   lug_boot     1728 non-null   object\n",
            " 5   safety       1728 non-null   object\n",
            " 6   class        1728 non-null   object\n",
            "dtypes: object(7)\n",
            "memory usage: 94.6+ KB\n"
          ],
          "name": "stdout"
        }
      ]
    },
    {
      "cell_type": "code",
      "metadata": {
        "colab": {
          "base_uri": "https://localhost:8080/",
          "height": 166
        },
        "id": "yzYMZ2QS73JP",
        "outputId": "19a6f9ad-04b3-4cb8-8b12-de17cfd606a8"
      },
      "source": [
        "# Let's get some statistical info about the data\n",
        "dataset.describe()"
      ],
      "execution_count": 6,
      "outputs": [
        {
          "output_type": "execute_result",
          "data": {
            "text/html": [
              "<div>\n",
              "<style scoped>\n",
              "    .dataframe tbody tr th:only-of-type {\n",
              "        vertical-align: middle;\n",
              "    }\n",
              "\n",
              "    .dataframe tbody tr th {\n",
              "        vertical-align: top;\n",
              "    }\n",
              "\n",
              "    .dataframe thead th {\n",
              "        text-align: right;\n",
              "    }\n",
              "</style>\n",
              "<table border=\"1\" class=\"dataframe\">\n",
              "  <thead>\n",
              "    <tr style=\"text-align: right;\">\n",
              "      <th></th>\n",
              "      <th>buying</th>\n",
              "      <th>maintenance</th>\n",
              "      <th>doors</th>\n",
              "      <th>persons</th>\n",
              "      <th>lug_boot</th>\n",
              "      <th>safety</th>\n",
              "      <th>class</th>\n",
              "    </tr>\n",
              "  </thead>\n",
              "  <tbody>\n",
              "    <tr>\n",
              "      <th>count</th>\n",
              "      <td>1728</td>\n",
              "      <td>1728</td>\n",
              "      <td>1728</td>\n",
              "      <td>1728</td>\n",
              "      <td>1728</td>\n",
              "      <td>1728</td>\n",
              "      <td>1728</td>\n",
              "    </tr>\n",
              "    <tr>\n",
              "      <th>unique</th>\n",
              "      <td>4</td>\n",
              "      <td>4</td>\n",
              "      <td>4</td>\n",
              "      <td>3</td>\n",
              "      <td>3</td>\n",
              "      <td>3</td>\n",
              "      <td>4</td>\n",
              "    </tr>\n",
              "    <tr>\n",
              "      <th>top</th>\n",
              "      <td>low</td>\n",
              "      <td>low</td>\n",
              "      <td>2</td>\n",
              "      <td>more</td>\n",
              "      <td>big</td>\n",
              "      <td>low</td>\n",
              "      <td>unacc</td>\n",
              "    </tr>\n",
              "    <tr>\n",
              "      <th>freq</th>\n",
              "      <td>432</td>\n",
              "      <td>432</td>\n",
              "      <td>432</td>\n",
              "      <td>576</td>\n",
              "      <td>576</td>\n",
              "      <td>576</td>\n",
              "      <td>1210</td>\n",
              "    </tr>\n",
              "  </tbody>\n",
              "</table>\n",
              "</div>"
            ],
            "text/plain": [
              "       buying maintenance doors persons lug_boot safety  class\n",
              "count    1728        1728  1728    1728     1728   1728   1728\n",
              "unique      4           4     4       3        3      3      4\n",
              "top       low         low     2    more      big    low  unacc\n",
              "freq      432         432   432     576      576    576   1210"
            ]
          },
          "metadata": {
            "tags": []
          },
          "execution_count": 6
        }
      ]
    },
    {
      "cell_type": "markdown",
      "metadata": {
        "id": "gVAIVkxK8QoR"
      },
      "source": [
        "Conclusion from the data, so far\n",
        "\n",
        "* No null values\n",
        "\n",
        "* The dataset is imbalanced, and hence, metric to consider will be F1 score\n",
        "\n",
        "* We have all the categorical variables - 4 Object, 2 int  \n",
        "\n",
        "* We need to perform Label Encoding,but no One-hot encoding since the labels have superior-inferior relationship with each other\n",
        "\n"
      ]
    },
    {
      "cell_type": "code",
      "metadata": {
        "colab": {
          "base_uri": "https://localhost:8080/"
        },
        "id": "WiACsP8t9qbJ",
        "outputId": "f38f7b09-ffbe-4112-abee-e6e9f87a4b37"
      },
      "source": [
        "# Let's have a look at our labels/classes\n",
        "dataset['class'].unique()"
      ],
      "execution_count": 7,
      "outputs": [
        {
          "output_type": "execute_result",
          "data": {
            "text/plain": [
              "array(['unacc', 'acc', 'vgood', 'good'], dtype=object)"
            ]
          },
          "metadata": {
            "tags": []
          },
          "execution_count": 7
        }
      ]
    },
    {
      "cell_type": "code",
      "metadata": {
        "id": "KtmZfCFTECWI"
      },
      "source": [
        "# Let's get our labels\n",
        "labels = dataset['class'] "
      ],
      "execution_count": 8,
      "outputs": []
    },
    {
      "cell_type": "code",
      "metadata": {
        "id": "2MEfAxwVEquO"
      },
      "source": [
        "# Let's drop the labels from the dataset, so that we automatically have\n",
        "# our independent features ready\n",
        "dataset.drop(columns='class',axis=1,inplace=True)"
      ],
      "execution_count": 9,
      "outputs": []
    },
    {
      "cell_type": "code",
      "metadata": {
        "id": "1KA0c75LFjZI"
      },
      "source": [
        "# Making the Stratified Train Test Split\n",
        "X_train, X_test, y_train, y_test = train_test_split(dataset, labels,\n",
        "                                                    stratify=labels, \n",
        "                                                    test_size=0.25)"
      ],
      "execution_count": 10,
      "outputs": []
    },
    {
      "cell_type": "markdown",
      "metadata": {
        "id": "sD89ue_7GwaN"
      },
      "source": [
        "## Processing the Train Dataset"
      ]
    },
    {
      "cell_type": "code",
      "metadata": {
        "id": "y6CEM_sW-FrF"
      },
      "source": [
        "# Let's create two nested dictionaries to assist us in the process of Label \n",
        "# Encoding our features and labels\n",
        "replace_values_features = {\n",
        "    \"buying\" : {\"vhigh\": 3, \"high\":2, \"med\":1, \"low\":0},\n",
        "    \"maintenance\" : {\"vhigh\": 3, \"high\":2, \"med\":1, \"low\":0},\n",
        "    \"doors\" : {\"2\":0, \"3\":1, \"4\":2, \"5more\":3},\n",
        "    \"persons\" : {\"2\":0, \"4\":1, \"more\":2},\n",
        "    \"lug_boot\" : {\"small\":0, \"med\":1, \"big\":2},\n",
        "    \"safety\" : {\"low\":0, \"med\":1, \"high\":2}\n",
        "}\n",
        "\n",
        "replace_values_labels = {\"unacc\":0, \"acc\":1, \"good\":2, \"vgood\":3}"
      ],
      "execution_count": 11,
      "outputs": []
    },
    {
      "cell_type": "code",
      "metadata": {
        "colab": {
          "base_uri": "https://localhost:8080/"
        },
        "id": "rMZOVaZWIJAm",
        "outputId": "87b9bfad-71b9-44ea-a04e-05fb9e327c79"
      },
      "source": [
        "# Label encoding the Independent Features\n",
        "X_train.replace(to_replace=replace_values_features,inplace=True)"
      ],
      "execution_count": 12,
      "outputs": [
        {
          "output_type": "stream",
          "text": [
            "/usr/local/lib/python3.7/dist-packages/pandas/core/indexing.py:1781: SettingWithCopyWarning: \n",
            "A value is trying to be set on a copy of a slice from a DataFrame.\n",
            "Try using .loc[row_indexer,col_indexer] = value instead\n",
            "\n",
            "See the caveats in the documentation: https://pandas.pydata.org/pandas-docs/stable/user_guide/indexing.html#returning-a-view-versus-a-copy\n",
            "  self.obj[item_labels[indexer[info_axis]]] = value\n",
            "/usr/local/lib/python3.7/dist-packages/pandas/core/indexing.py:1743: SettingWithCopyWarning: \n",
            "A value is trying to be set on a copy of a slice from a DataFrame.\n",
            "Try using .loc[row_indexer,col_indexer] = value instead\n",
            "\n",
            "See the caveats in the documentation: https://pandas.pydata.org/pandas-docs/stable/user_guide/indexing.html#returning-a-view-versus-a-copy\n",
            "  isetter(ilocs[0], value)\n"
          ],
          "name": "stderr"
        }
      ]
    },
    {
      "cell_type": "code",
      "metadata": {
        "colab": {
          "base_uri": "https://localhost:8080/"
        },
        "id": "uGo5lteEKpM2",
        "outputId": "bbfd5ac0-503f-416c-929a-cb18bd496481"
      },
      "source": [
        "  X_train.info()"
      ],
      "execution_count": 13,
      "outputs": [
        {
          "output_type": "stream",
          "text": [
            "<class 'pandas.core.frame.DataFrame'>\n",
            "Int64Index: 1296 entries, 659 to 1591\n",
            "Data columns (total 6 columns):\n",
            " #   Column       Non-Null Count  Dtype\n",
            "---  ------       --------------  -----\n",
            " 0   buying       1296 non-null   int64\n",
            " 1   maintenance  1296 non-null   int64\n",
            " 2   doors        1296 non-null   int64\n",
            " 3   persons      1296 non-null   int64\n",
            " 4   lug_boot     1296 non-null   int64\n",
            " 5   safety       1296 non-null   int64\n",
            "dtypes: int64(6)\n",
            "memory usage: 70.9 KB\n"
          ],
          "name": "stdout"
        }
      ]
    },
    {
      "cell_type": "code",
      "metadata": {
        "id": "qbT4FXjeKhdc"
      },
      "source": [
        "y_train.replace(to_replace=replace_values_labels, inplace=True)"
      ],
      "execution_count": 14,
      "outputs": []
    },
    {
      "cell_type": "markdown",
      "metadata": {
        "id": "KlNQGhrxkDVG"
      },
      "source": [
        "## Processing the Test Set"
      ]
    },
    {
      "cell_type": "code",
      "metadata": {
        "colab": {
          "base_uri": "https://localhost:8080/"
        },
        "id": "9z0cw38PkDgi",
        "outputId": "b0a9a645-4066-4b20-ac78-9e146a7e7fd1"
      },
      "source": [
        "# Label encoding the Independent Features\n",
        "X_test.replace(to_replace=replace_values_features,inplace=True)"
      ],
      "execution_count": 15,
      "outputs": [
        {
          "output_type": "stream",
          "text": [
            "/usr/local/lib/python3.7/dist-packages/pandas/core/indexing.py:1781: SettingWithCopyWarning: \n",
            "A value is trying to be set on a copy of a slice from a DataFrame.\n",
            "Try using .loc[row_indexer,col_indexer] = value instead\n",
            "\n",
            "See the caveats in the documentation: https://pandas.pydata.org/pandas-docs/stable/user_guide/indexing.html#returning-a-view-versus-a-copy\n",
            "  self.obj[item_labels[indexer[info_axis]]] = value\n",
            "/usr/local/lib/python3.7/dist-packages/pandas/core/indexing.py:1743: SettingWithCopyWarning: \n",
            "A value is trying to be set on a copy of a slice from a DataFrame.\n",
            "Try using .loc[row_indexer,col_indexer] = value instead\n",
            "\n",
            "See the caveats in the documentation: https://pandas.pydata.org/pandas-docs/stable/user_guide/indexing.html#returning-a-view-versus-a-copy\n",
            "  isetter(ilocs[0], value)\n"
          ],
          "name": "stderr"
        }
      ]
    },
    {
      "cell_type": "code",
      "metadata": {
        "colab": {
          "base_uri": "https://localhost:8080/"
        },
        "id": "0d0Bl0LtkF27",
        "outputId": "0f75d412-dbec-405c-da28-59e064f5ae92"
      },
      "source": [
        "X_test.info()"
      ],
      "execution_count": 16,
      "outputs": [
        {
          "output_type": "stream",
          "text": [
            "<class 'pandas.core.frame.DataFrame'>\n",
            "Int64Index: 432 entries, 694 to 110\n",
            "Data columns (total 6 columns):\n",
            " #   Column       Non-Null Count  Dtype\n",
            "---  ------       --------------  -----\n",
            " 0   buying       432 non-null    int64\n",
            " 1   maintenance  432 non-null    int64\n",
            " 2   doors        432 non-null    int64\n",
            " 3   persons      432 non-null    int64\n",
            " 4   lug_boot     432 non-null    int64\n",
            " 5   safety       432 non-null    int64\n",
            "dtypes: int64(6)\n",
            "memory usage: 23.6 KB\n"
          ],
          "name": "stdout"
        }
      ]
    },
    {
      "cell_type": "code",
      "metadata": {
        "id": "uK5FNQA_kIfE"
      },
      "source": [
        "y_test.replace(to_replace=replace_values_labels, inplace=True)"
      ],
      "execution_count": 17,
      "outputs": []
    },
    {
      "cell_type": "markdown",
      "metadata": {
        "id": "NJ_5iU_FkspT"
      },
      "source": [
        "## SVC Model"
      ]
    },
    {
      "cell_type": "code",
      "metadata": {
        "id": "r3eCOZozkvsa"
      },
      "source": [
        "# We chose the Linear Kernel\n",
        "model = SVC(kernel='linear') "
      ],
      "execution_count": 19,
      "outputs": []
    },
    {
      "cell_type": "code",
      "metadata": {
        "colab": {
          "base_uri": "https://localhost:8080/"
        },
        "id": "9JuGmer-nP4O",
        "outputId": "f3dade66-1387-41cd-c696-a69bad685b16"
      },
      "source": [
        "#Train the model \n",
        "model.fit(X_train, y_train)"
      ],
      "execution_count": 20,
      "outputs": [
        {
          "output_type": "execute_result",
          "data": {
            "text/plain": [
              "SVC(C=1.0, break_ties=False, cache_size=200, class_weight=None, coef0=0.0,\n",
              "    decision_function_shape='ovr', degree=3, gamma='scale', kernel='linear',\n",
              "    max_iter=-1, probability=False, random_state=None, shrinking=True,\n",
              "    tol=0.001, verbose=False)"
            ]
          },
          "metadata": {
            "tags": []
          },
          "execution_count": 20
        }
      ]
    },
    {
      "cell_type": "code",
      "metadata": {
        "id": "nnirUL8InSnE"
      },
      "source": [
        "#Predict the response for test dataset\n",
        "y_pred = model.predict(X_test)"
      ],
      "execution_count": 21,
      "outputs": []
    },
    {
      "cell_type": "markdown",
      "metadata": {
        "id": "8iQhDx8qqVrn"
      },
      "source": [
        "## Evaluating the Results"
      ]
    },
    {
      "cell_type": "code",
      "metadata": {
        "colab": {
          "base_uri": "https://localhost:8080/"
        },
        "id": "5ro4_fPWndq-",
        "outputId": "1bebef1b-caee-41ef-d4fe-8711aa745da1"
      },
      "source": [
        "print(\"The F1 score of the model is:\",f1_score(y_test,y_pred,average='weighted'))"
      ],
      "execution_count": 28,
      "outputs": [
        {
          "output_type": "stream",
          "text": [
            "The F1 score of the model is: 0.8442385674854932\n"
          ],
          "name": "stdout"
        }
      ]
    },
    {
      "cell_type": "markdown",
      "metadata": {
        "id": "E2WG_WSVn0hv"
      },
      "source": [
        "We get satisfactory score of 84.4 % on the test dataset. However, to improve the performance, using a Random Forest Classifier or Artificial Neural Network can be considered."
      ]
    },
    {
      "cell_type": "code",
      "metadata": {
        "colab": {
          "base_uri": "https://localhost:8080/",
          "height": 286
        },
        "id": "BfNSw7ICqdjK",
        "outputId": "c57e6190-658f-4cde-a5a4-47c58d195d68"
      },
      "source": [
        "# Get the Confusion Matrix\n",
        "plt.imshow(confusion_matrix(y_test,y_pred))"
      ],
      "execution_count": 32,
      "outputs": [
        {
          "output_type": "execute_result",
          "data": {
            "text/plain": [
              "<matplotlib.image.AxesImage at 0x7fd9191a0d10>"
            ]
          },
          "metadata": {
            "tags": []
          },
          "execution_count": 32
        },
        {
          "output_type": "display_data",
          "data": {
            "image/png": "[encoded data removed]",
            "text/plain": [
              "<Figure size 432x288 with 1 Axes>"
            ]
          },
          "metadata": {
            "tags": [],
            "needs_background": "light"
          }
        }
      ]
    },
    {
      "cell_type": "markdown",
      "metadata": {
        "id": "tFRpkB0yrBjK"
      },
      "source": [
        "## Save the model"
      ]
    },
    {
      "cell_type": "code",
      "metadata": {
        "id": "DWe3_bSspzsB"
      },
      "source": [
        "filename = 'finalized_model.h5'\n",
        "pickle.dump(model, open(filename, 'wb'))"
      ],
      "execution_count": 34,
      "outputs": []
    }
  ]
}